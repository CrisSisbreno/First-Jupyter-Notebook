{
 "cells": [
  {
   "cell_type": "markdown",
   "id": "8467d546-c04c-46ff-bc7d-cb71d320e4cd",
   "metadata": {
    "tags": []
   },
   "source": [
    "# Data Science Tool and Ecosystem"
   ]
  },
  {
   "cell_type": "markdown",
   "id": "346e8a95-54af-41d4-a560-61cf6a26a067",
   "metadata": {},
   "source": [
    "In this notebook, Data Science Tools and Ecosystem are summarized. "
   ]
  },
  {
   "cell_type": "markdown",
   "id": "adb3ebf9-5d1f-43c7-bca5-7c36394fe214",
   "metadata": {},
   "source": [
    "Some of the popular languages that Data Scientists use are:\n",
    "1. Python\n",
    "2. Java\n",
    "3. C++"
   ]
  },
  {
   "cell_type": "markdown",
   "id": "62c9498d-7f7d-49bf-a8ec-dc9e3a32a540",
   "metadata": {},
   "source": [
    "Some of the commonly used libraries used by Data Scientists include:\n",
    "1. NumPy\n",
    "2. Pandas\n",
    "3. Matplotlib"
   ]
  },
  {
   "cell_type": "markdown",
   "id": "22417009-22e6-44e3-97f1-74720484b16a",
   "metadata": {},
   "source": [
    "|Data Science Tools|\n",
    "|------------------|\n",
    "|TensorFlow|\n",
    "|Excel|\n",
    "|Apache Spark|\n"
   ]
  },
  {
   "cell_type": "markdown",
   "id": "920baf11-3649-4d21-8393-5b51c36f3e97",
   "metadata": {},
   "source": [
    "### Below are a few examples of evaluating arithmetic expressions in Python"
   ]
  },
  {
   "cell_type": "code",
   "execution_count": 2,
   "id": "6159b186-6eb9-49f7-ab2c-fe0712c6cf65",
   "metadata": {
    "tags": []
   },
   "outputs": [
    {
     "data": {
      "text/plain": [
       "17"
      ]
     },
     "execution_count": 2,
     "metadata": {},
     "output_type": "execute_result"
    }
   ],
   "source": [
    "(3*4)+5"
   ]
  },
  {
   "cell_type": "markdown",
   "id": "b243f508-64e2-41e7-9f3a-602363aea4f3",
   "metadata": {},
   "source": [
    "This a simple arithmetic expression to multiply then add integers."
   ]
  },
  {
   "cell_type": "code",
   "execution_count": 3,
   "id": "c294e69e-e19a-4903-b3ba-2aaf91b8fc36",
   "metadata": {
    "tags": []
   },
   "outputs": [
    {
     "name": "stdout",
     "output_type": "stream",
     "text": [
      "3.3333333333333335\n"
     ]
    }
   ],
   "source": [
    "min = 200\n",
    "hr = 60\n",
    "convert = min / hr\n",
    "print(convert)"
   ]
  },
  {
   "cell_type": "markdown",
   "id": "9751b715-193e-47ca-a596-834eceb8c81d",
   "metadata": {},
   "source": [
    "This will convert 200 minutes to hours by diving by 60"
   ]
  },
  {
   "cell_type": "markdown",
   "id": "1d533dc5-476f-4d2d-9809-284b18d5a5d9",
   "metadata": {},
   "source": [
    "**Objectives:**\n",
    "- List popular languages used in Data Science\n",
    "- List common libraries used in Data Science\n",
    "- list Data Science Tools\n",
    "- Basic Arithmetic Expressions\n",
    "- Minute to Hour Conversion"
   ]
  },
  {
   "cell_type": "markdown",
   "id": "1d9f30b4-bf48-4989-87e8-cddd56d0cb4e",
   "metadata": {},
   "source": [
    "## Author\n",
    "Cris Lawrence Sisbreno"
   ]
  }
 ],
 "metadata": {
  "kernelspec": {
   "display_name": "Python",
   "language": "python",
   "name": "conda-env-python-py"
  },
  "language_info": {
   "codemirror_mode": {
    "name": "ipython",
    "version": 3
   },
   "file_extension": ".py",
   "mimetype": "text/x-python",
   "name": "python",
   "nbconvert_exporter": "python",
   "pygments_lexer": "ipython3",
   "version": "3.7.12"
  }
 },
 "nbformat": 4,
 "nbformat_minor": 5
}
